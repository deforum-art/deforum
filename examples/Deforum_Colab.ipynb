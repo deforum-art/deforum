{
  "cells": [
    {
      "cell_type": "markdown",
      "metadata": {
        "id": "uVsB0qLMu91T"
      },
      "source": [
        "# **Deforum Colab 0.1.7 (Pre-Release)**\n",
        "Deforum Discord https://discord.gg/deforum\n",
        "\n",
        "Github Repository https://github.com/deforum-art/deforum\n",
        "\n",
        "Have an issue? https://github.com/deforum-art/deforum/issues"
      ]
    },
    {
      "cell_type": "markdown",
      "metadata": {
        "id": "EjZIu3l64H6t"
      },
      "source": [
        "## **Setup**"
      ]
    },
    {
      "cell_type": "code",
      "source": [
        "!pip install deforum"
      ],
      "metadata": {
        "id": "0m9F1J9q6dCd"
      },
      "execution_count": null,
      "outputs": []
    },
    {
      "cell_type": "code",
      "execution_count": null,
      "metadata": {
        "id": "zBVsUMrI4H6t"
      },
      "outputs": [],
      "source": [
        "import torch\n",
        "import numpy as np\n",
        "import datetime\n",
        "from types import SimpleNamespace\n",
        "from IPython.display import display\n",
        "from deforum import Deforum, DeforumConfig, GenerationArgs\n",
        "from diffusers.utils import load_image\n",
        "from deforum.utils.image_utils import ImageHandler"
      ]
    },
    {
      "cell_type": "markdown",
      "metadata": {
        "id": "49Ps0_wd4H6u"
      },
      "source": [
        "## **Model**"
      ]
    },
    {
      "cell_type": "code",
      "execution_count": null,
      "metadata": {
        "cellView": "form",
        "id": "Y6Ty5WQd4H6u"
      },
      "outputs": [],
      "source": [
        "#@markdown **Model Config**\n",
        "\n",
        "def model_config():\n",
        "    model_name = \"stabilityai/stable-diffusion-xl-base-1.0\" #@param {type:\"string\"}\n",
        "    use_safetensors = True #@param {type:\"boolean\"}\n",
        "    model_type = \"sdxl\" #@param [\"sdxl\",\"sd1.5\"]\n",
        "    pipeline_type = \"base\" #@param [\"base\"]\n",
        "    return locals()\n",
        "\n",
        "model = SimpleNamespace(**model_config())\n",
        "\n",
        "config = DeforumConfig(\n",
        "    model_name = model.model_name,\n",
        "    use_safetensors = model.use_safetensors,\n",
        "    model_type = model.model_type,\n",
        "    pipeline_type = model.pipeline_type\n",
        ")\n",
        "\n",
        "deforum = Deforum(config)"
      ]
    },
    {
      "cell_type": "markdown",
      "metadata": {
        "id": "B9257zPP4H6u"
      },
      "source": [
        "## **Run**"
      ]
    },
    {
      "cell_type": "code",
      "execution_count": null,
      "metadata": {
        "cellView": "form",
        "id": "9YtBsnqm4H6v"
      },
      "outputs": [],
      "source": [
        "def run_arguments():\n",
        "#@markdown **Prompts**\n",
        "    prompt = \"cat sushi screenprint hokusai\" #@param {type:\"string\"}\n",
        "    negative_prompt = \"\" #@param {type:\"string\"}\n",
        "#@markdown **Image Size**\n",
        "    height = 1024 #@param {type:\"integer\"}\n",
        "    width = 1024 #@param {type:\"integer\"}\n",
        "#@markdown **Steps & Guidance**\n",
        "    num_inference_steps = 50 #@param {type:\"integer\"}\n",
        "    guidance_scale = 7.5 #@param {type:\"number\"}\n",
        "#@markdown **Sampling**\n",
        "    seed = -1 #@param {type:\"number\"}\n",
        "    sampler = \"unipc\" #@param [\"ddim\",\"ddpm\",\"deis\",\"dpms\",\"dpmm\",\"heun\",\"kdpm2\",\"kdpm2_a\",\"lms\",\"pndm\",\"euler\",\"euler_ancestral\",\"unipc\",\"dpmpp_singlestep\",\"dpmpp_multistep\"]\n",
        "    clip_skip = 0 #@param [0,1,2]\n",
        "    eta = 0.0 #@param {type:\"number\"}\n",
        "#@markdown **Initial Image**\n",
        "    image = None #@param\n",
        "    mask_image = None #@param\n",
        "    strength = 1.0 #@param {type:\"number\"}\n",
        "#@markdown **Batch**\n",
        "    num_images_per_prompt = 1 #@param {type:\"integer\"}\n",
        "    repeat = 1 #@param {type:\"integer\"}\n",
        "    seed_mode = \"iter\" #@param {type:\"string\"}\n",
        "    seed_list = None #@param\n",
        "    template_save_path = \"samples/$prompt/$timestr/$custom_$index\" #@param {type:\"string\"}\n",
        "\n",
        "    if seed == -1:\n",
        "      seed = np.random.randint(0, (2**16) - 1)\n",
        "\n",
        "    if image is not None:\n",
        "      image = load_image(image)\n",
        "\n",
        "    if mask_image is not None:\n",
        "      mask_image = load_image(mask_image)\n",
        "\n",
        "    return locals()\n",
        "\n",
        "args = SimpleNamespace(**run_arguments())\n",
        "\n",
        "args = GenerationArgs(\n",
        "    prompt = args.prompt,\n",
        "    negative_prompt = args.negative_prompt,\n",
        "    image = args.image,\n",
        "    mask_image = args.mask_image,\n",
        "    height = args.height,\n",
        "    width = args.width,\n",
        "    num_inference_steps = args.num_inference_steps,\n",
        "    guidance_scale = args.guidance_scale,\n",
        "    strength = args.strength,\n",
        "    num_images_per_prompt = args.num_images_per_prompt,\n",
        "    eta = args.eta,\n",
        "    clip_skip = args.clip_skip,\n",
        "    sampler = args.sampler,\n",
        "    seed = args.seed,\n",
        "    repeat = args.repeat,\n",
        "    seed_mode = args.seed_mode,\n",
        "    seed_list = args.seed_list,\n",
        "    template_save_path = args.template_save_path,\n",
        ")\n",
        "\n",
        "samples = deforum.generate(args)\n",
        "pil_images = ImageHandler().to_pils(samples.image)\n",
        "for pil_image in pil_images:\n",
        "    display(pil_image)"
      ]
    }
  ],
  "metadata": {
    "accelerator": "GPU",
    "colab": {
      "collapsed_sections": [
        "EjZIu3l64H6t"
      ],
      "gpuType": "T4",
      "provenance": []
    },
    "kernelspec": {
      "display_name": "Python 3",
      "name": "python3"
    },
    "language_info": {
      "codemirror_mode": {
        "name": "ipython",
        "version": 3
      },
      "file_extension": ".py",
      "mimetype": "text/x-python",
      "name": "python",
      "nbconvert_exporter": "python",
      "pygments_lexer": "ipython3",
      "version": "3.10.10"
    }
  },
  "nbformat": 4,
  "nbformat_minor": 0
}